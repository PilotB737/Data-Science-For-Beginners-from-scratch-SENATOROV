{
 "cells": [
  {
   "cell_type": "code",
   "execution_count": 1,
   "id": "86f41192",
   "metadata": {},
   "outputs": [
    {
     "data": {
      "text/plain": [
       "'Логирование  уроков.'"
      ]
     },
     "execution_count": 1,
     "metadata": {},
     "output_type": "execute_result"
    }
   ],
   "source": [
    "\"\"\"Логирование  уроков.\"\"\""
   ]
  },
  {
   "cell_type": "markdown",
   "id": "30f9b9fc",
   "metadata": {},
   "source": [
    "10/04\n",
    "\n",
    "\"Ознакомился с гитхаб.\"\n",
    "\"Ознакомился с командами.\""
   ]
  }
 ],
 "metadata": {
  "kernelspec": {
   "display_name": "Python 3",
   "language": "python",
   "name": "python3"
  },
  "language_info": {
   "codemirror_mode": {
    "name": "ipython",
    "version": 3
   },
   "file_extension": ".py",
   "mimetype": "text/x-python",
   "name": "python",
   "nbconvert_exporter": "python",
   "pygments_lexer": "ipython3",
   "version": "3.12.10"
  }
 },
 "nbformat": 4,
 "nbformat_minor": 5
}
